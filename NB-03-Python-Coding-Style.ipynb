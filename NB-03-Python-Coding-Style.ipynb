{
 "cells": [
  {
   "cell_type": "markdown",
   "metadata": {},
   "source": [
    "# 파이썬 버젼"
   ]
  },
  {
   "cell_type": "markdown",
   "metadata": {},
   "source": [
    "* 파이썬에는 2점대(2.x)와 3점대(3.x) 버젼이 존재한다.\n",
    "* 두 버전이 100% 호환하지는 않는다.\n",
    "* 수치계산과 관련해서 여전히 파이썬 2점대 버젼과 호환하는 파일과 문서가 보다 많이 존재한다. \n",
    "* 하지만 2.7 버전부터는 3점대 버젼의 일부를 지원하기도 한다. \n",
    "* 예를 들어 나눗셈을 3점대 버전처럼 사용하는 방법은 아래 예제와 같다."
   ]
  },
  {
   "cell_type": "code",
   "execution_count": 1,
   "metadata": {
    "collapsed": true
   },
   "outputs": [],
   "source": [
    "from __future__ import division"
   ]
  },
  {
   "cell_type": "code",
   "execution_count": 2,
   "metadata": {
    "collapsed": false
   },
   "outputs": [
    {
     "data": {
      "text/plain": [
       "0.5"
      ]
     },
     "execution_count": 2,
     "metadata": {},
     "output_type": "execute_result"
    }
   ],
   "source": [
    "1/2"
   ]
  },
  {
   "cell_type": "code",
   "execution_count": 3,
   "metadata": {
    "collapsed": false
   },
   "outputs": [
    {
     "data": {
      "text/plain": [
       "0"
      ]
     },
     "execution_count": 3,
     "metadata": {},
     "output_type": "execute_result"
    }
   ],
   "source": [
    "1//2"
   ]
  },
  {
   "cell_type": "markdown",
   "metadata": {},
   "source": [
    "##### 정수들의 나눗셈을 사용하고자 한다면 더블 슬래쉬 `//`를 이용하면 된다."
   ]
  },
  {
   "cell_type": "code",
   "execution_count": 4,
   "metadata": {
    "collapsed": false
   },
   "outputs": [
    {
     "data": {
      "text/plain": [
       "0"
      ]
     },
     "execution_count": 4,
     "metadata": {},
     "output_type": "execute_result"
    }
   ],
   "source": [
    "1//2"
   ]
  },
  {
   "cell_type": "markdown",
   "metadata": {},
   "source": [
    "# 코딩 스타일"
   ]
  },
  {
   "cell_type": "markdown",
   "metadata": {
    "collapsed": true
   },
   "source": [
    "* 파이썬 문법은 절대적으로 지켜야 한다.\n",
    "* 가능하면 파이썬 스타일 안내를 따라야 한다.\n",
    "  * 가독성(readability)이 매우 중요하다. 디버깅, 문서화, 팀활동에 필수적임.\n",
    "  * 관례를 잘 따르면 작업 및 코드 효율성이 증가한다."
   ]
  },
  {
   "cell_type": "markdown",
   "metadata": {},
   "source": [
    "## PEP8 스타일 가이드"
   ]
  },
  {
   "cell_type": "markdown",
   "metadata": {
    "collapsed": true
   },
   "source": [
    "* PEP8 기준을 잘 따르기를 추천함: 아래 사이트 참조\n",
    "\n",
    "    http://www.python.org/dev/peps/pep-0008/\n",
    "\n",
    "\n",
    "* 아래 사항들이 핵심사항들임\n",
    "    * 들여쓰기: 탭키 사용 또는 스페이스 4칸 사용\n",
    "    * 할당기호 `=` 좌우로 스페이스 1칸 사용: `c=5` 대신에 `c = 5` 사용\n",
    "    * 4칙연산자 좌우로 스페이스 사용은 상황에 따라 변함: 아래 사항 모두 좋음.\n",
    "        * `x = 3*a + 4*b`\n",
    "        * `x = 3 * a + 4 * b`\n",
    "    * 함수의 인자를 쓸 때 괄호 전후로 스페이스 사용하지 말것.\n",
    "        * 좋음: `x = sin(x)` \n",
    "        * 안좋음: `x = sin( x )`\n",
    "    * 콤마 다음엔 스페이스 사용\n",
    "        * 좋음: `range(5, 10)`\n",
    "        * 안좋음: `range(4,10)`\n",
    "    * 모듈 또는 라이브러리를 임포트할 경우 아래 순서 지키기:\n",
    "        * 파이썬 표준 라이브러리 \n",
    "        * third-party 라이브러리\n",
    "        * 개발자 스스로 만든 라이브러리\n",
    "    * 이외에 필요없는 스페이스 및 엔터키 사용하지 말것 등등 다양함."
   ]
  }
 ],
 "metadata": {
  "kernelspec": {
   "display_name": "Python 2",
   "language": "python",
   "name": "python2"
  },
  "language_info": {
   "codemirror_mode": {
    "name": "ipython",
    "version": 2
   },
   "file_extension": ".py",
   "mimetype": "text/x-python",
   "name": "python",
   "nbconvert_exporter": "python",
   "pygments_lexer": "ipython2",
   "version": "2.7.10"
  }
 },
 "nbformat": 4,
 "nbformat_minor": 0
}
